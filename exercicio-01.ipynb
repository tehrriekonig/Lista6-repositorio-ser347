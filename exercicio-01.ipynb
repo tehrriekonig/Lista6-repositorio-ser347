{
 "cells": [
  {
   "cell_type": "code",
   "execution_count": 1,
   "metadata": {},
   "outputs": [],
   "source": [
    "import numpy as np"
   ]
  },
  {
   "cell_type": "code",
   "execution_count": 6,
   "metadata": {},
   "outputs": [
    {
     "name": "stdout",
     "output_type": "stream",
     "text": [
      "A distancia euclidiana é: 154.09737181405788 \n",
      "\n",
      "A série temporal media é: [ 168.   399.   451.   318.5  186.   216.   262.   349.   189.   204.\n",
      "  220.   220.   207.   239.   259.   258.   242.   331.   251.   251.5\n",
      "  106.  1055.   185. ] \n",
      "\n",
      "A série de maximos é: [ 168  400  451  337  186  232  262  349  189  204  220  220  207  239\n",
      "  259  258  242  331  251  323  106 1055  200]\n",
      "\n",
      "A série de mínimos é: [ 168  398  451  300  186  200  262  349  189  204  220  220  207  239\n",
      "  259  258  242  331  251  180  106 1055  170]\n"
     ]
    }
   ],
   "source": [
    "s1 = np.array([168, 398, 451, 337, 186, 232, 262, 349, 189, 204, 220, 220, 207, 239, 259, 258, 242, 331, 251, 323, 106, 1055, 170])\n",
    "\n",
    "s2 = np.array([168, 400, 451, 300, 186, 200, 262, 349, 189, 204, 220, 220, 207, 239, 259, 258, 242, 331, 251, 180, 106, 1055, 200])\n",
    "\n",
    "# distancia euclidiana\n",
    "\n",
    "dist_euclidiana = np.linalg.norm(s1-s2)\n",
    "print(f\"A distancia euclidiana é: {dist_euclidiana} \")\n",
    "print()\n",
    "# serie temporal com valores médios entre s1 e s2\n",
    "media = np.mean([s1, s2], axis=0)\n",
    "print(f\"A série temporal media é: {media} \")\n",
    "print()\n",
    "#série temporal com os valores máximos de cada instante entre s1 e s2\n",
    "maximo = np.maximum(s1, s2)\n",
    "print(f\"A série de maximos é: {maximo}\")\n",
    "print()\n",
    "#série temporal com os valores mínimos de cada instante entre s1 e s2\n",
    "minimo = np.minimum(s1, s2)\n",
    "print(f\"A série de mínimos é: {minimo}\")\n"
   ]
  },
  {
   "cell_type": "code",
   "execution_count": null,
   "metadata": {},
   "outputs": [],
   "source": []
  },
  {
   "cell_type": "code",
   "execution_count": null,
   "metadata": {},
   "outputs": [],
   "source": []
  }
 ],
 "metadata": {
  "kernelspec": {
   "display_name": "Python 3",
   "language": "python",
   "name": "python3"
  },
  "language_info": {
   "codemirror_mode": {
    "name": "ipython",
    "version": 3
   },
   "file_extension": ".py",
   "mimetype": "text/x-python",
   "name": "python",
   "nbconvert_exporter": "python",
   "pygments_lexer": "ipython3",
   "version": "3.7.6"
  }
 },
 "nbformat": 4,
 "nbformat_minor": 4
}
